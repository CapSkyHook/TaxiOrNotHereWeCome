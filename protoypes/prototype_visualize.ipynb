{
 "cells": [
  {
   "cell_type": "code",
   "execution_count": 1,
   "metadata": {
    "collapsed": true
   },
   "outputs": [],
   "source": [
    "import pandas as pd\n",
    "import glob,os\n",
    "#os.chdir(\"./BDAD/cluster\")"
   ]
  },
  {
   "cell_type": "code",
   "execution_count": 2,
   "metadata": {
    "collapsed": true
   },
   "outputs": [],
   "source": [
    "import csv\n",
    "import re\n",
    "from tqdm import tqdm_notebook as tqdm\n"
   ]
  },
  {
   "cell_type": "code",
   "execution_count": 6,
   "metadata": {},
   "outputs": [
    {
     "data": {
      "text/plain": [
       "0    N)\n",
       "Name: 2, dtype: object"
      ]
     },
     "execution_count": 6,
     "metadata": {},
     "output_type": "execute_result"
    }
   ],
   "source": [
    "df = pd.read_csv(\"BDAD/clusterDenotations/part-00024\", names = [\"latitude\",\"longitude\",\"train_line\"])\n",
    "#f[2]"
   ]
  },
  {
   "cell_type": "code",
   "execution_count": 33,
   "metadata": {},
   "outputs": [
    {
     "data": {
      "application/vnd.jupyter.widget-view+json": {
       "model_id": "1f056ce1f47141c692307d375c0e5e47",
       "version_major": 2,
       "version_minor": 0
      },
      "text/plain": [
       "A Jupyter Widget"
      ]
     },
     "metadata": {},
     "output_type": "display_data"
    },
    {
     "name": "stdout",
     "output_type": "stream",
     "text": [
      "\n"
     ]
    }
   ],
   "source": [
    "df = pd.DataFrame()\n",
    "for i in tqdm(range(0,48)):\n",
    "    try:\n",
    "        df1 = pd.read_csv(\"BDAD/clusterDenotations/part-%05d\"%i, names = [\"latitude\",\"longitude\",\"train_line\"])\n",
    "    #df1[0] = df1[0].apply( lambda x: float(x.strip(\"(())\\n\").strip(\")\")))\n",
    "    #df1[1] = df1[1].apply( lambda x: float(x.strip(\"(())\\n\").strip(\")\")))\n",
    "    #df1[2] = df1[2].apply( lambda x: float(x.strip(\"(())\\n\").strip(\")\")))\n",
    "        df = pd.concat([df1,df])\n",
    "    except:\n",
    "        continue"
   ]
  },
  {
   "cell_type": "code",
   "execution_count": 35,
   "metadata": {
    "collapsed": true
   },
   "outputs": [],
   "source": [
    "df[\"latitude\"] = df[\"latitude\"].apply(lambda x: float(x.strip(\"((()))\").strip(\"Location(\")))"
   ]
  },
  {
   "cell_type": "code",
   "execution_count": 36,
   "metadata": {
    "collapsed": true
   },
   "outputs": [],
   "source": [
    "df[\"longitude\"] = df[\"longitude\"].apply(lambda x: float(x.strip(\")\")))"
   ]
  },
  {
   "cell_type": "code",
   "execution_count": 41,
   "metadata": {
    "collapsed": true
   },
   "outputs": [],
   "source": [
    "df[\"train_line\"] = df[\"train_line\"].apply(lambda x: x.strip(\")\"))"
   ]
  },
  {
   "cell_type": "code",
   "execution_count": 43,
   "metadata": {},
   "outputs": [
    {
     "data": {
      "text/html": [
       "<div>\n",
       "<style>\n",
       "    .dataframe thead tr:only-child th {\n",
       "        text-align: right;\n",
       "    }\n",
       "\n",
       "    .dataframe thead th {\n",
       "        text-align: left;\n",
       "    }\n",
       "\n",
       "    .dataframe tbody tr th {\n",
       "        vertical-align: top;\n",
       "    }\n",
       "</style>\n",
       "<table border=\"1\" class=\"dataframe\">\n",
       "  <thead>\n",
       "    <tr style=\"text-align: right;\">\n",
       "      <th></th>\n",
       "      <th>latitude</th>\n",
       "      <th>longitude</th>\n",
       "      <th>train_line</th>\n",
       "    </tr>\n",
       "  </thead>\n",
       "  <tbody>\n",
       "    <tr>\n",
       "      <th>0</th>\n",
       "      <td>40.715226</td>\n",
       "      <td>-73.952132</td>\n",
       "      <td>L</td>\n",
       "    </tr>\n",
       "    <tr>\n",
       "      <th>0</th>\n",
       "      <td>40.724494</td>\n",
       "      <td>-73.801831</td>\n",
       "      <td>F</td>\n",
       "    </tr>\n",
       "    <tr>\n",
       "      <th>0</th>\n",
       "      <td>40.730009</td>\n",
       "      <td>-73.871598</td>\n",
       "      <td>M</td>\n",
       "    </tr>\n",
       "    <tr>\n",
       "      <th>0</th>\n",
       "      <td>40.742609</td>\n",
       "      <td>-74.002638</td>\n",
       "      <td>E</td>\n",
       "    </tr>\n",
       "    <tr>\n",
       "      <th>0</th>\n",
       "      <td>40.807492</td>\n",
       "      <td>-73.952343</td>\n",
       "      <td>B</td>\n",
       "    </tr>\n",
       "    <tr>\n",
       "      <th>0</th>\n",
       "      <td>40.818607</td>\n",
       "      <td>-74.089463</td>\n",
       "      <td>1</td>\n",
       "    </tr>\n",
       "    <tr>\n",
       "      <th>0</th>\n",
       "      <td>40.771923</td>\n",
       "      <td>-73.868424</td>\n",
       "      <td>7</td>\n",
       "    </tr>\n",
       "    <tr>\n",
       "      <th>0</th>\n",
       "      <td>40.685239</td>\n",
       "      <td>-73.985961</td>\n",
       "      <td>A</td>\n",
       "    </tr>\n",
       "    <tr>\n",
       "      <th>0</th>\n",
       "      <td>40.764858</td>\n",
       "      <td>-73.962221</td>\n",
       "      <td>F</td>\n",
       "    </tr>\n",
       "    <tr>\n",
       "      <th>0</th>\n",
       "      <td>40.748047</td>\n",
       "      <td>-73.978293</td>\n",
       "      <td>6</td>\n",
       "    </tr>\n",
       "    <tr>\n",
       "      <th>0</th>\n",
       "      <td>40.757766</td>\n",
       "      <td>-73.921016</td>\n",
       "      <td>M</td>\n",
       "    </tr>\n",
       "    <tr>\n",
       "      <th>0</th>\n",
       "      <td>40.711650</td>\n",
       "      <td>-74.010227</td>\n",
       "      <td>A</td>\n",
       "    </tr>\n",
       "    <tr>\n",
       "      <th>0</th>\n",
       "      <td>40.622260</td>\n",
       "      <td>-73.990279</td>\n",
       "      <td>N</td>\n",
       "    </tr>\n",
       "    <tr>\n",
       "      <th>0</th>\n",
       "      <td>40.728884</td>\n",
       "      <td>-74.002594</td>\n",
       "      <td>1</td>\n",
       "    </tr>\n",
       "    <tr>\n",
       "      <th>0</th>\n",
       "      <td>40.722408</td>\n",
       "      <td>-73.990634</td>\n",
       "      <td>F</td>\n",
       "    </tr>\n",
       "    <tr>\n",
       "      <th>0</th>\n",
       "      <td>40.646633</td>\n",
       "      <td>-73.785411</td>\n",
       "      <td>A</td>\n",
       "    </tr>\n",
       "    <tr>\n",
       "      <th>0</th>\n",
       "      <td>40.674497</td>\n",
       "      <td>-73.944886</td>\n",
       "      <td>3</td>\n",
       "    </tr>\n",
       "    <tr>\n",
       "      <th>0</th>\n",
       "      <td>40.778601</td>\n",
       "      <td>-73.953886</td>\n",
       "      <td>6</td>\n",
       "    </tr>\n",
       "    <tr>\n",
       "      <th>0</th>\n",
       "      <td>40.766063</td>\n",
       "      <td>-73.985576</td>\n",
       "      <td>B</td>\n",
       "    </tr>\n",
       "    <tr>\n",
       "      <th>0</th>\n",
       "      <td>40.751785</td>\n",
       "      <td>-73.991601</td>\n",
       "      <td>A</td>\n",
       "    </tr>\n",
       "    <tr>\n",
       "      <th>0</th>\n",
       "      <td>40.759108</td>\n",
       "      <td>-73.974219</td>\n",
       "      <td>M</td>\n",
       "    </tr>\n",
       "    <tr>\n",
       "      <th>0</th>\n",
       "      <td>40.735365</td>\n",
       "      <td>-73.986510</td>\n",
       "      <td>L</td>\n",
       "    </tr>\n",
       "    <tr>\n",
       "      <th>0</th>\n",
       "      <td>40.852066</td>\n",
       "      <td>-73.914098</td>\n",
       "      <td>4</td>\n",
       "    </tr>\n",
       "    <tr>\n",
       "      <th>0</th>\n",
       "      <td>40.685196</td>\n",
       "      <td>-74.176504</td>\n",
       "      <td>R</td>\n",
       "    </tr>\n",
       "    <tr>\n",
       "      <th>0</th>\n",
       "      <td>40.786050</td>\n",
       "      <td>-73.975452</td>\n",
       "      <td>1</td>\n",
       "    </tr>\n",
       "  </tbody>\n",
       "</table>\n",
       "</div>"
      ],
      "text/plain": [
       "    latitude  longitude train_line\n",
       "0  40.715226 -73.952132          L\n",
       "0  40.724494 -73.801831          F\n",
       "0  40.730009 -73.871598          M\n",
       "0  40.742609 -74.002638          E\n",
       "0  40.807492 -73.952343          B\n",
       "0  40.818607 -74.089463          1\n",
       "0  40.771923 -73.868424          7\n",
       "0  40.685239 -73.985961          A\n",
       "0  40.764858 -73.962221          F\n",
       "0  40.748047 -73.978293          6\n",
       "0  40.757766 -73.921016          M\n",
       "0  40.711650 -74.010227          A\n",
       "0  40.622260 -73.990279          N\n",
       "0  40.728884 -74.002594          1\n",
       "0  40.722408 -73.990634          F\n",
       "0  40.646633 -73.785411          A\n",
       "0  40.674497 -73.944886          3\n",
       "0  40.778601 -73.953886          6\n",
       "0  40.766063 -73.985576          B\n",
       "0  40.751785 -73.991601          A\n",
       "0  40.759108 -73.974219          M\n",
       "0  40.735365 -73.986510          L\n",
       "0  40.852066 -73.914098          4\n",
       "0  40.685196 -74.176504          R\n",
       "0  40.786050 -73.975452          1"
      ]
     },
     "execution_count": 43,
     "metadata": {},
     "output_type": "execute_result"
    }
   ],
   "source": [
    "df"
   ]
  },
  {
   "cell_type": "code",
   "execution_count": 44,
   "metadata": {
    "collapsed": true
   },
   "outputs": [],
   "source": [
    "df.to_csv(\"clusterDenotations.csv\",index=False)"
   ]
  },
  {
   "cell_type": "code",
   "execution_count": 32,
   "metadata": {},
   "outputs": [
    {
     "data": {
      "text/plain": [
       "0    24\n",
       "1    24\n",
       "2    24\n",
       "dtype: int64"
      ]
     },
     "execution_count": 32,
     "metadata": {},
     "output_type": "execute_result"
    }
   ],
   "source": [
    "#df.rename(columns=[\"latitude\",\"longitude\",\"train-line\"])\n",
    "df.count()"
   ]
  },
  {
   "cell_type": "code",
   "execution_count": 9,
   "metadata": {},
   "outputs": [
    {
     "data": {
      "text/html": [
       "<div>\n",
       "<style>\n",
       "    .dataframe thead tr:only-child th {\n",
       "        text-align: right;\n",
       "    }\n",
       "\n",
       "    .dataframe thead th {\n",
       "        text-align: left;\n",
       "    }\n",
       "\n",
       "    .dataframe tbody tr th {\n",
       "        vertical-align: top;\n",
       "    }\n",
       "</style>\n",
       "<table border=\"1\" class=\"dataframe\">\n",
       "  <thead>\n",
       "    <tr style=\"text-align: right;\">\n",
       "      <th></th>\n",
       "      <th>0</th>\n",
       "      <th>1</th>\n",
       "    </tr>\n",
       "  </thead>\n",
       "  <tbody>\n",
       "    <tr>\n",
       "      <th>0</th>\n",
       "      <td>40.764858</td>\n",
       "      <td>-73.962221</td>\n",
       "    </tr>\n",
       "  </tbody>\n",
       "</table>\n",
       "</div>"
      ],
      "text/plain": [
       "           0          1\n",
       "0  40.764858 -73.962221"
      ]
     },
     "execution_count": 9,
     "metadata": {},
     "output_type": "execute_result"
    }
   ],
   "source": [
    "#df[0] = df[0].apply( lambda x: float(x.strip(\"(())[]\\n\").strip(\")\")))\n",
    "df[1] = df[1].apply( lambda x: float(x.strip(\"(())[]\\n\").strip(\")\")))\n",
    "df"
   ]
  },
  {
   "cell_type": "code",
   "execution_count": 20,
   "metadata": {},
   "outputs": [
    {
     "name": "stdout",
     "output_type": "stream",
     "text": [
      "here\n",
      "here\n",
      "here\n",
      "here\n",
      "here\n",
      "here\n",
      "here\n",
      "here\n",
      "here\n",
      "here\n",
      "here\n",
      "here\n",
      "here\n",
      "here\n",
      "here\n",
      "here\n",
      "here\n",
      "here\n",
      "here\n",
      "here\n",
      "here\n",
      "here\n",
      "here\n",
      "here\n",
      "here\n"
     ]
    }
   ],
   "source": [
    "df = pd.DataFrame()\n",
    "for i in range(0,222):\n",
    "    try:\n",
    "        df1 = pd.read_csv(\"../cluster_centers/part-%05d\"%i, header=None)\n",
    "        print(\"here\")\n",
    "        df1[0] = df1[0].apply( lambda x: float(x.strip(\"(([]))\\n\").strip(\")\")))\n",
    "        df1[1] = df1[1].apply( lambda x: float(x.strip(\"(([]))\\n\").strip(\")\")))\n",
    "        df = pd.concat([df1,df])\n",
    "    except:\n",
    "        continue"
   ]
  },
  {
   "cell_type": "code",
   "execution_count": 16,
   "metadata": {},
   "outputs": [
    {
     "data": {
      "text/html": [
       "<div>\n",
       "<style>\n",
       "    .dataframe thead tr:only-child th {\n",
       "        text-align: right;\n",
       "    }\n",
       "\n",
       "    .dataframe thead th {\n",
       "        text-align: left;\n",
       "    }\n",
       "\n",
       "    .dataframe tbody tr th {\n",
       "        vertical-align: top;\n",
       "    }\n",
       "</style>\n",
       "<table border=\"1\" class=\"dataframe\">\n",
       "  <thead>\n",
       "    <tr style=\"text-align: right;\">\n",
       "      <th></th>\n",
       "    </tr>\n",
       "  </thead>\n",
       "  <tbody>\n",
       "  </tbody>\n",
       "</table>\n",
       "</div>"
      ],
      "text/plain": [
       "Empty DataFrame\n",
       "Columns: []\n",
       "Index: []"
      ]
     },
     "execution_count": 16,
     "metadata": {},
     "output_type": "execute_result"
    }
   ],
   "source": [
    "df"
   ]
  },
  {
   "cell_type": "code",
   "execution_count": 21,
   "metadata": {},
   "outputs": [],
   "source": [
    "la=list(df[0].values)\n",
    "lo=list(df[1].values)\n",
    "#la = [float(l) for l in la]\n",
    "#lo = [float(l) for l in lo]\n",
    "data = zip(la,lo)\n",
    "c_la,c_lon=zip(*data)"
   ]
  },
  {
   "cell_type": "code",
   "execution_count": 25,
   "metadata": {},
   "outputs": [
    {
     "data": {
      "text/html": [
       "<div>\n",
       "<style>\n",
       "    .dataframe thead tr:only-child th {\n",
       "        text-align: right;\n",
       "    }\n",
       "\n",
       "    .dataframe thead th {\n",
       "        text-align: left;\n",
       "    }\n",
       "\n",
       "    .dataframe tbody tr th {\n",
       "        vertical-align: top;\n",
       "    }\n",
       "</style>\n",
       "<table border=\"1\" class=\"dataframe\">\n",
       "  <thead>\n",
       "    <tr style=\"text-align: right;\">\n",
       "      <th></th>\n",
       "      <th>0</th>\n",
       "      <th>1</th>\n",
       "    </tr>\n",
       "  </thead>\n",
       "  <tbody>\n",
       "    <tr>\n",
       "      <th>0</th>\n",
       "      <td>(40.883895=-73.862633</td>\n",
       "      <td>2=5)</td>\n",
       "    </tr>\n",
       "    <tr>\n",
       "      <th>1</th>\n",
       "      <td>(40.75173=-73.855334</td>\n",
       "      <td>7)</td>\n",
       "    </tr>\n",
       "    <tr>\n",
       "      <th>2</th>\n",
       "      <td>(40.596063=-73.973357</td>\n",
       "      <td>F)</td>\n",
       "    </tr>\n",
       "    <tr>\n",
       "      <th>3</th>\n",
       "      <td>(40.807754=-73.945495</td>\n",
       "      <td>2=3)</td>\n",
       "    </tr>\n",
       "    <tr>\n",
       "      <th>4</th>\n",
       "      <td>(40.67358=-73.995959</td>\n",
       "      <td>F=40.67358=-73.995959=G=R)</td>\n",
       "    </tr>\n",
       "  </tbody>\n",
       "</table>\n",
       "</div>"
      ],
      "text/plain": [
       "                       0                           1\n",
       "0  (40.883895=-73.862633                        2=5)\n",
       "1   (40.75173=-73.855334                          7)\n",
       "2  (40.596063=-73.973357                          F)\n",
       "3  (40.807754=-73.945495                        2=3)\n",
       "4   (40.67358=-73.995959  F=40.67358=-73.995959=G=R)"
      ]
     },
     "execution_count": 25,
     "metadata": {},
     "output_type": "execute_result"
    }
   ],
   "source": [
    "st1 = pd.read_csv(\"../station_data/part-00000\", header=None)\n",
    "st2 = pd.read_csv(\"../station_data/part-00001\", header=None)\n",
    "st2.head()"
   ]
  },
  {
   "cell_type": "code",
   "execution_count": 27,
   "metadata": {},
   "outputs": [
    {
     "data": {
      "text/plain": [
       "0    472\n",
       "1    472\n",
       "dtype: int64"
      ]
     },
     "execution_count": 27,
     "metadata": {},
     "output_type": "execute_result"
    }
   ],
   "source": [
    "st = pd.concat([st1,st2])\n",
    "st.count()"
   ]
  },
  {
   "cell_type": "code",
   "execution_count": 28,
   "metadata": {},
   "outputs": [
    {
     "data": {
      "text/html": [
       "<div>\n",
       "<style>\n",
       "    .dataframe thead tr:only-child th {\n",
       "        text-align: right;\n",
       "    }\n",
       "\n",
       "    .dataframe thead th {\n",
       "        text-align: left;\n",
       "    }\n",
       "\n",
       "    .dataframe tbody tr th {\n",
       "        vertical-align: top;\n",
       "    }\n",
       "</style>\n",
       "<table border=\"1\" class=\"dataframe\">\n",
       "  <thead>\n",
       "    <tr style=\"text-align: right;\">\n",
       "      <th></th>\n",
       "      <th>0</th>\n",
       "      <th>1</th>\n",
       "    </tr>\n",
       "  </thead>\n",
       "  <tbody>\n",
       "    <tr>\n",
       "      <th>0</th>\n",
       "      <td>(40.67834=-73.911946</td>\n",
       "      <td>A=C)</td>\n",
       "    </tr>\n",
       "    <tr>\n",
       "      <th>1</th>\n",
       "      <td>(40.743132=-73.918435</td>\n",
       "      <td>7)</td>\n",
       "    </tr>\n",
       "    <tr>\n",
       "      <th>2</th>\n",
       "      <td>(40.866978=-73.893509</td>\n",
       "      <td>B=D)</td>\n",
       "    </tr>\n",
       "    <tr>\n",
       "      <th>3</th>\n",
       "      <td>(40.722301=-73.997141</td>\n",
       "      <td>6)</td>\n",
       "    </tr>\n",
       "    <tr>\n",
       "      <th>4</th>\n",
       "      <td>(40.640927=-73.963891</td>\n",
       "      <td>B=Q)</td>\n",
       "    </tr>\n",
       "  </tbody>\n",
       "</table>\n",
       "</div>"
      ],
      "text/plain": [
       "                       0     1\n",
       "0   (40.67834=-73.911946  A=C)\n",
       "1  (40.743132=-73.918435    7)\n",
       "2  (40.866978=-73.893509  B=D)\n",
       "3  (40.722301=-73.997141    6)\n",
       "4  (40.640927=-73.963891  B=Q)"
      ]
     },
     "execution_count": 28,
     "metadata": {},
     "output_type": "execute_result"
    }
   ],
   "source": [
    "st.head()"
   ]
  },
  {
   "cell_type": "code",
   "execution_count": 29,
   "metadata": {},
   "outputs": [
    {
     "data": {
      "text/plain": [
       "0    40.678340\n",
       "1    40.743132\n",
       "2    40.866978\n",
       "3    40.722301\n",
       "4    40.640927\n",
       "Name: 2, dtype: float64"
      ]
     },
     "execution_count": 29,
     "metadata": {},
     "output_type": "execute_result"
    }
   ],
   "source": [
    "st[2] = st[0].apply(lambda x: float(x.split(\"=\")[0].strip(\"()\")))\n",
    "st[2].head()"
   ]
  },
  {
   "cell_type": "code",
   "execution_count": 30,
   "metadata": {},
   "outputs": [
    {
     "data": {
      "text/plain": [
       "0   -73.911946\n",
       "1   -73.918435\n",
       "2   -73.893509\n",
       "3   -73.997141\n",
       "4   -73.963891\n",
       "Name: 3, dtype: float64"
      ]
     },
     "execution_count": 30,
     "metadata": {},
     "output_type": "execute_result"
    }
   ],
   "source": [
    "st[3] = st[0].apply(lambda x: float(x.split(\"=\")[1].strip(\"()\")))\n",
    "st[3].head()"
   ]
  },
  {
   "cell_type": "code",
   "execution_count": 31,
   "metadata": {},
   "outputs": [
    {
     "data": {
      "text/plain": [
       "0                                            A=C)\n",
       "1                                              7)\n",
       "2                                            B=D)\n",
       "3                                              6)\n",
       "4                                            B=Q)\n",
       "5                                            2=5)\n",
       "6                                              F)\n",
       "7                                            A=C)\n",
       "8                       J=40.702147=-73.801109=Z)\n",
       "9                                              G)\n",
       "10                    N=Q=40.764811=-73.973347=R)\n",
       "11                  4=5=2=40.688246=-73.980492=3)\n",
       "12         4=N=5=40.683666=-73.97881=Q=B=2=R=3=D)\n",
       "13                                           M=R)\n",
       "14                                           M=R)\n",
       "15                                             1)\n",
       "16                                             4)\n",
       "17                                             D)\n",
       "18                                             F)\n",
       "19                                           B=Q)\n",
       "20                                       E=A=L=C)\n",
       "21                                           J=Z)\n",
       "22                                             7)\n",
       "23                                             G)\n",
       "24                                             5)\n",
       "25                                           B=D)\n",
       "26                                           M=R)\n",
       "27                                           G=L)\n",
       "28                                             R)\n",
       "29                                           2=5)\n",
       "                          ...                    \n",
       "210                                            C)\n",
       "211                                            R)\n",
       "212                                            6)\n",
       "213                                          B=Q)\n",
       "214                                            6)\n",
       "215                                            L)\n",
       "216                                            6)\n",
       "217                                            6)\n",
       "218                                            F)\n",
       "219                                            F)\n",
       "220                                            7)\n",
       "221    N=A=1=Q=GS=2=C=7=R=3=40.755983=-73.986229)\n",
       "222                                          C=E)\n",
       "223                                            F)\n",
       "224                                            7)\n",
       "225                                          B=Q)\n",
       "226                                          B=D)\n",
       "227                                            6)\n",
       "228                                            A)\n",
       "229                                          N=R)\n",
       "230                                            L)\n",
       "231                 N=F=Q=40.577422=-73.981233=D)\n",
       "232                                            D)\n",
       "233                                          J=Z)\n",
       "234                                          4=5)\n",
       "235                                          D=N)\n",
       "236         4=N=5=Q=B=40.68446=-73.97689=2=R=3=D)\n",
       "237                                          A=C)\n",
       "238                                            F)\n",
       "239                                            F)\n",
       "Name: 1, Length: 472, dtype: object"
      ]
     },
     "execution_count": 31,
     "metadata": {},
     "output_type": "execute_result"
    }
   ],
   "source": [
    "st[1]"
   ]
  },
  {
   "cell_type": "code",
   "execution_count": 32,
   "metadata": {
    "collapsed": true
   },
   "outputs": [],
   "source": [
    "la=list(st[2].values)\n",
    "lo=list(st[3].values)\n",
    "#la = [float(l) for l in la]\n",
    "#lo = [float(l) for l in lo]\n",
    "data = zip(la,lo)\n",
    "st_la,st_lon=zip(*data)"
   ]
  },
  {
   "cell_type": "code",
   "execution_count": 46,
   "metadata": {
    "collapsed": true
   },
   "outputs": [],
   "source": [
    "from gmplot import gmplot\n",
    "gmap = gmplot.GoogleMapPlotter.from_geocode(\"New York City\")"
   ]
  },
  {
   "cell_type": "code",
   "execution_count": 47,
   "metadata": {
    "collapsed": true
   },
   "outputs": [],
   "source": [
    "for i in range(len(la)):\n",
    "    gmap.marker(la[i],lo[i] , 'cornflowerblue')\n",
    "gmap.scatter(st_la, st_lon, '#8B0000', size=80, marker=False)\n",
    "gmap.draw(\"clusters_station_test.html\")"
   ]
  },
  {
   "cell_type": "code",
   "execution_count": 3,
   "metadata": {},
   "outputs": [
    {
     "data": {
      "text/html": [
       "<div>\n",
       "<style>\n",
       "    .dataframe thead tr:only-child th {\n",
       "        text-align: right;\n",
       "    }\n",
       "\n",
       "    .dataframe thead th {\n",
       "        text-align: left;\n",
       "    }\n",
       "\n",
       "    .dataframe tbody tr th {\n",
       "        vertical-align: top;\n",
       "    }\n",
       "</style>\n",
       "<table border=\"1\" class=\"dataframe\">\n",
       "  <thead>\n",
       "    <tr style=\"text-align: right;\">\n",
       "      <th></th>\n",
       "      <th>0</th>\n",
       "      <th>1</th>\n",
       "      <th>2</th>\n",
       "    </tr>\n",
       "  </thead>\n",
       "  <tbody>\n",
       "    <tr>\n",
       "      <th>0</th>\n",
       "      <td>((40.76545</td>\n",
       "      <td>-73.980053)</td>\n",
       "      <td>1)</td>\n",
       "    </tr>\n",
       "    <tr>\n",
       "      <th>1</th>\n",
       "      <td>((40.732002</td>\n",
       "      <td>-73.98837)</td>\n",
       "      <td>1)</td>\n",
       "    </tr>\n",
       "    <tr>\n",
       "      <th>2</th>\n",
       "      <td>((40.733145</td>\n",
       "      <td>-73.998478)</td>\n",
       "      <td>1)</td>\n",
       "    </tr>\n",
       "    <tr>\n",
       "      <th>3</th>\n",
       "      <td>((40.725187</td>\n",
       "      <td>-73.995312)</td>\n",
       "      <td>1)</td>\n",
       "    </tr>\n",
       "    <tr>\n",
       "      <th>4</th>\n",
       "      <td>((40.6686</td>\n",
       "      <td>-73.9423)</td>\n",
       "      <td>2)</td>\n",
       "    </tr>\n",
       "  </tbody>\n",
       "</table>\n",
       "</div>"
      ],
      "text/plain": [
       "             0            1   2\n",
       "0   ((40.76545  -73.980053)  1)\n",
       "1  ((40.732002   -73.98837)  1)\n",
       "2  ((40.733145  -73.998478)  1)\n",
       "3  ((40.725187  -73.995312)  1)\n",
       "4    ((40.6686    -73.9423)  2)"
      ]
     },
     "execution_count": 3,
     "metadata": {},
     "output_type": "execute_result"
    }
   ],
   "source": [
    "df = pd.read_csv(\"part-00000\", header = None)\n",
    "df.head()"
   ]
  },
  {
   "cell_type": "code",
   "execution_count": 4,
   "metadata": {},
   "outputs": [
    {
     "data": {
      "text/plain": [
       "0    616\n",
       "1    616\n",
       "2    616\n",
       "dtype: int64"
      ]
     },
     "execution_count": 4,
     "metadata": {},
     "output_type": "execute_result"
    }
   ],
   "source": [
    "df.count()"
   ]
  },
  {
   "cell_type": "code",
   "execution_count": 11,
   "metadata": {
    "collapsed": true
   },
   "outputs": [],
   "source": [
    "df[0] = df[0].apply( lambda x: float(x.strip(\"(())\\n\").strip(\")\")))"
   ]
  },
  {
   "cell_type": "code",
   "execution_count": 12,
   "metadata": {
    "collapsed": true
   },
   "outputs": [],
   "source": [
    "df[1] = df[1].apply( lambda x: float(x.strip(\"(())\\n\").strip(\")\")))"
   ]
  },
  {
   "cell_type": "code",
   "execution_count": 13,
   "metadata": {
    "collapsed": true
   },
   "outputs": [],
   "source": [
    "df[2] = df[2].apply( lambda x: float(x.strip(\"(())\\n\").strip(\")\")))"
   ]
  },
  {
   "cell_type": "code",
   "execution_count": 14,
   "metadata": {
    "collapsed": true
   },
   "outputs": [],
   "source": [
    "df2 = pd.read_csv(\"part-00001\", header = None)\n",
    "df2[0] = df2[0].apply( lambda x: float(x.strip(\"(())\\n\").strip(\")\")))\n",
    "df2[1] = df2[1].apply( lambda x: float(x.strip(\"(())\\n\").strip(\")\")))\n",
    "df2[2] = df2[2].apply( lambda x: float(x.strip(\"(())\\n\").strip(\")\")))"
   ]
  },
  {
   "cell_type": "code",
   "execution_count": 16,
   "metadata": {
    "collapsed": true
   },
   "outputs": [],
   "source": [
    "df3 = pd.concat([df,df2])"
   ]
  },
  {
   "cell_type": "code",
   "execution_count": 23,
   "metadata": {},
   "outputs": [
    {
     "data": {
      "text/plain": [
       "0    1789\n",
       "1    1789\n",
       "2    1789\n",
       "dtype: int64"
      ]
     },
     "execution_count": 23,
     "metadata": {},
     "output_type": "execute_result"
    }
   ],
   "source": [
    "#dfa = pd.DataFrame()\n",
    "dfa = pd.concat([df,dfa])\n",
    "dfa.count()"
   ]
  },
  {
   "cell_type": "code",
   "execution_count": 18,
   "metadata": {
    "collapsed": true
   },
   "outputs": [],
   "source": [
    "from tqdm import tqdm_notebook as tqdm"
   ]
  },
  {
   "cell_type": "code",
   "execution_count": 4,
   "metadata": {},
   "outputs": [
    {
     "data": {
      "application/vnd.jupyter.widget-view+json": {
       "model_id": "a3ea38772f4e40b3810c112d2dac9def",
       "version_major": 2,
       "version_minor": 0
      },
      "text/plain": [
       "A Jupyter Widget"
      ]
     },
     "metadata": {},
     "output_type": "display_data"
    },
    {
     "name": "stdout",
     "output_type": "stream",
     "text": [
      "\n"
     ]
    }
   ],
   "source": [
    "os.chdir(\"BDAD/to_visualization\")\n",
    "df = pd.DataFrame()\n",
    "for i in tqdm(range(0,1763)):\n",
    "    df1 = pd.read_csv(\"part-%05d\"%i, header=None)\n",
    "    df1[0] = df1[0].apply( lambda x: float(x.strip(\"(())\\n\").strip(\")\")))\n",
    "    df1[1] = df1[1].apply( lambda x: float(x.strip(\"(())\\n\").strip(\")\")))\n",
    "    df1[2] = df1[2].apply( lambda x: float(x.strip(\"(())\\n\").strip(\")\")))\n",
    "    df = pd.concat([df1,df])"
   ]
  },
  {
   "cell_type": "code",
   "execution_count": 8,
   "metadata": {},
   "outputs": [
    {
     "data": {
      "text/plain": [
       "Int64Index([0, 1, 2], dtype='int64')"
      ]
     },
     "execution_count": 8,
     "metadata": {},
     "output_type": "execute_result"
    }
   ],
   "source": [
    "df.columns\n"
   ]
  },
  {
   "cell_type": "code",
   "execution_count": 5,
   "metadata": {
    "collapsed": true
   },
   "outputs": [],
   "source": [
    "la=list(df[0].values)\n",
    "lo=list(df[1].values)\n",
    "#la = [float(l) for l in la]\n",
    "#lo = [float(l) for l in lo]\n",
    "data = zip(la,lo)\n",
    "las,lons=zip(*data)"
   ]
  },
  {
   "cell_type": "code",
   "execution_count": 6,
   "metadata": {
    "collapsed": true
   },
   "outputs": [],
   "source": [
    "from gmplot import gmplot\n",
    "gmap = gmplot.GoogleMapPlotter.from_geocode(\"New York City\")"
   ]
  },
  {
   "cell_type": "code",
   "execution_count": 7,
   "metadata": {
    "collapsed": true
   },
   "outputs": [],
   "source": [
    "gmap.heatmap(las,lons)\n",
    "gmap.draw(\"heatmap.html\")"
   ]
  },
  {
   "cell_type": "code",
   "execution_count": 40,
   "metadata": {
    "collapsed": true
   },
   "outputs": [],
   "source": [
    "ACE_la = [40.68523864,40.71164957,40.64663254,40.75178465,40.74260943]\n",
    "ACE_lo = [-73.98596064,-74.010227,-73.78541142,-73.99160143,-74.00263818]\n",
    "BDFM_la = [40.80749169,40.76606257,40.72449395,40.76485772,40.7224077,40.73000946,40.7577662,40.759108]\n",
    "BDFM_lo = [-73.95234278,-73.98557603,-73.80183092,-73.96222122,-73.99063369,-73.87159802,-73.92101558,-73.9742188]\n",
    "L_la = [40.71522551,40.73536458]\n",
    "L_lo = [-73.95213195,-73.9865102]\n",
    "NR_la = [40.62225963]\n",
    "NR_lo = [-73.99027879]\n",
    "onetwothree_la = [40.72888388,40.78605031,40.67449729]\n",
    "onetwothree_lo = [-74.00259369,-73.97545152,-73.94488626]\n",
    "foursix_la = [40.85206561,40.74804678,40.7786015]\n",
    "foursix_lo = [-73.91409818,-73.97829342,-73.95388588]\n",
    "seven_la = [40.77192331]\n",
    "seven_lo = [-73.86842436]\n"
   ]
  },
  {
   "cell_type": "code",
   "execution_count": 45,
   "metadata": {
    "collapsed": true
   },
   "outputs": [],
   "source": [
    "from gmplot import gmplot\n",
    "gmap = gmplot.GoogleMapPlotter.from_geocode(\"New York City\")"
   ]
  },
  {
   "cell_type": "code",
   "execution_count": 46,
   "metadata": {
    "collapsed": true
   },
   "outputs": [],
   "source": [
    "for i in range(len(ACE_la)):\n",
    "    gmap.marker(ACE_la[i],ACE_lo[i] , '#00008B')\n",
    "for i in range(len(BDFM_la)):\n",
    "    gmap.marker(BDFM_la[i],BDFM_lo[i] , '#ffa500') \n",
    "for i in range(len(L_la)):\n",
    "    gmap.marker(L_la[i],L_lo[i] , '#808080')    \n",
    "for i in range(len(NR_la)):\n",
    "    gmap.marker(NR_la[i],NR_lo[i] , '#ffff00')   \n",
    "for i in range(len(onetwothree_la)):\n",
    "    gmap.marker(onetwothree_la[i],onetwothree_lo[i] , '#FF4500')\n",
    "for i in range(len(foursix_la)):\n",
    "    gmap.marker(foursix_la[i],foursix_lo[i] , '#006400') \n",
    "for i in range(len(seven_la)):\n",
    "    gmap.marker(seven_la[i],seven_lo[i] , '#9400d3') \n",
    "gmap.scatter(st_la, st_lon, '#8B0000', size=80, marker=False)    \n",
    "gmap.draw(\"clusters_station.html\")    "
   ]
  },
  {
   "cell_type": "code",
   "execution_count": null,
   "metadata": {
    "collapsed": true
   },
   "outputs": [],
   "source": []
  }
 ],
 "metadata": {
  "kernelspec": {
   "display_name": "Python 3",
   "language": "python",
   "name": "python3"
  },
  "language_info": {
   "codemirror_mode": {
    "name": "ipython",
    "version": 3
   },
   "file_extension": ".py",
   "mimetype": "text/x-python",
   "name": "python",
   "nbconvert_exporter": "python",
   "pygments_lexer": "ipython3",
   "version": "3.6.3"
  }
 },
 "nbformat": 4,
 "nbformat_minor": 2
}
